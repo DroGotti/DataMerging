{
  "nbformat": 4,
  "nbformat_minor": 0,
  "metadata": {
    "colab": {
      "name": "Data Merge ",
      "provenance": [],
      "authorship_tag": "ABX9TyPG0mClWZlJfGBX2qvugQ7T",
      "include_colab_link": true
    },
    "kernelspec": {
      "name": "python3",
      "display_name": "Python 3"
    },
    "language_info": {
      "name": "python"
    }
  },
  "cells": [
    {
      "cell_type": "markdown",
      "metadata": {
        "id": "view-in-github",
        "colab_type": "text"
      },
      "source": [
        "<a href=\"https://colab.research.google.com/github/DroGotti/DataMerging/blob/main/Data_Merge.ipynb\" target=\"_parent\"><img src=\"https://colab.research.google.com/assets/colab-badge.svg\" alt=\"Open In Colab\"/></a>"
      ]
    },
    {
      "cell_type": "code",
      "source": [
        "import pandas as pd   # data processing, CSV file I/O (e.g. pd.read_csv)\n",
        "import numpy as np   # linear algebra\n",
        "import matplotlib.pyplot as plt  #graphs and plots\n",
        "import seaborn as sns   #data visualizations \n",
        "import csv # Some extra functionalities for csv  files - reading it as a dictionary\n",
        "\n",
        "df1 = pd.read_csv('/Users/drogotti/Downloads/raw_2022-05-31_zipedit.csv')\n",
        "\n",
        "df2 = pd.read_csv('/Users/drogotti/Downloads/output_weather.csv')\n",
        "\n",
        "list(df1)\n",
        "\n",
        "list(df2)\n",
        "\n",
        "df1['patient_zipcode'] = df1['patient_zipcode'].str.split('-').str[0]\n",
        "df2['zipcode'] = df2['zipcode'].astype(str)\n",
        "merge = df1.merge(df2, how='left', left_on='patient_zipcode', right_on='zipcode')\n",
        "\n",
        "merge.to_csv('/Users/drogotti/Downloads/raw_2022-05-31_weatherzip.csv')"
      ],
      "metadata": {
        "id": "iqfUyqo8eAPh"
      },
      "execution_count": null,
      "outputs": []
    }
  ]
}